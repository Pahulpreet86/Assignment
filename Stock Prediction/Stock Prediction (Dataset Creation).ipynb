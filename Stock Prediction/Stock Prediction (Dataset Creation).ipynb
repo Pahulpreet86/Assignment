{
 "cells": [
  {
   "cell_type": "code",
   "execution_count": 1,
   "metadata": {},
   "outputs": [],
   "source": [
    "from pandas_datareader import data\n",
    "from openpyxl import load_workbook\n",
    "import pandas as pd"
   ]
  },
  {
   "cell_type": "code",
   "execution_count": 2,
   "metadata": {},
   "outputs": [
    {
     "name": "stderr",
     "output_type": "stream",
     "text": [
      "/usr/local/lib/python2.7/dist-packages/pandas_datareader/google/daily.py:40: UnstableAPIWarning: \n",
      "The Google Finance API has not been stable since late 2017. Requests seem\n",
      "to fail at random. Failure is especially common when bulk downloading.\n",
      "\n",
      "  warnings.warn(UNSTABLE_WARNING, UnstableAPIWarning)\n"
     ]
    }
   ],
   "source": [
    "#samsung last 5 year data (from 2013 ) google finance\n",
    "samsung_electronics = data.DataReader('KRX:005930', 'google', '2013-01-01')\n",
    "\n",
    "# Create a Pandas Excel writer using XlsxWriter as the engine.\n",
    "writer = pd.ExcelWriter('samsung_dataset.xlsx', engine='xlsxwriter')\n",
    "\n",
    "# Convert the dataframe to an XlsxWriter Excel object.\n",
    "samsung_electronics.to_excel(writer, sheet_name='Sheet')\n",
    "\n",
    "# Close the Pandas Excel writer and output the Excel file.\n",
    "writer.save()"
   ]
  },
  {
   "cell_type": "code",
   "execution_count": 3,
   "metadata": {},
   "outputs": [
    {
     "data": {
      "text/html": [
       "<div>\n",
       "<style scoped>\n",
       "    .dataframe tbody tr th:only-of-type {\n",
       "        vertical-align: middle;\n",
       "    }\n",
       "\n",
       "    .dataframe tbody tr th {\n",
       "        vertical-align: top;\n",
       "    }\n",
       "\n",
       "    .dataframe thead th {\n",
       "        text-align: right;\n",
       "    }\n",
       "</style>\n",
       "<table border=\"1\" class=\"dataframe\">\n",
       "  <thead>\n",
       "    <tr style=\"text-align: right;\">\n",
       "      <th></th>\n",
       "      <th>Date</th>\n",
       "      <th>Open</th>\n",
       "      <th>High</th>\n",
       "      <th>Low</th>\n",
       "      <th>Close</th>\n",
       "      <th>Volume</th>\n",
       "    </tr>\n",
       "  </thead>\n",
       "  <tbody>\n",
       "    <tr>\n",
       "      <th>0</th>\n",
       "      <td>2013-01-02</td>\n",
       "      <td>1533000</td>\n",
       "      <td>1576000</td>\n",
       "      <td>1527000</td>\n",
       "      <td>1576000</td>\n",
       "      <td>226790</td>\n",
       "    </tr>\n",
       "    <tr>\n",
       "      <th>1</th>\n",
       "      <td>2013-01-03</td>\n",
       "      <td>1582000</td>\n",
       "      <td>1584000</td>\n",
       "      <td>1543000</td>\n",
       "      <td>1543000</td>\n",
       "      <td>277934</td>\n",
       "    </tr>\n",
       "    <tr>\n",
       "      <th>2</th>\n",
       "      <td>2013-01-04</td>\n",
       "      <td>1540000</td>\n",
       "      <td>1542000</td>\n",
       "      <td>1510000</td>\n",
       "      <td>1525000</td>\n",
       "      <td>256920</td>\n",
       "    </tr>\n",
       "    <tr>\n",
       "      <th>3</th>\n",
       "      <td>2013-01-07</td>\n",
       "      <td>1515000</td>\n",
       "      <td>1528000</td>\n",
       "      <td>1500000</td>\n",
       "      <td>1520000</td>\n",
       "      <td>250247</td>\n",
       "    </tr>\n",
       "    <tr>\n",
       "      <th>4</th>\n",
       "      <td>2013-01-08</td>\n",
       "      <td>1513000</td>\n",
       "      <td>1517000</td>\n",
       "      <td>1498000</td>\n",
       "      <td>1500000</td>\n",
       "      <td>264689</td>\n",
       "    </tr>\n",
       "  </tbody>\n",
       "</table>\n",
       "</div>"
      ],
      "text/plain": [
       "        Date     Open     High      Low    Close  Volume\n",
       "0 2013-01-02  1533000  1576000  1527000  1576000  226790\n",
       "1 2013-01-03  1582000  1584000  1543000  1543000  277934\n",
       "2 2013-01-04  1540000  1542000  1510000  1525000  256920\n",
       "3 2013-01-07  1515000  1528000  1500000  1520000  250247\n",
       "4 2013-01-08  1513000  1517000  1498000  1500000  264689"
      ]
     },
     "execution_count": 3,
     "metadata": {},
     "output_type": "execute_result"
    }
   ],
   "source": [
    "df = pd.read_excel(\"samsung_dataset.xlsx\") #Reading the dataset (dataframe) \n",
    "df.head()#shows the top 5 rows \n"
   ]
  },
  {
   "cell_type": "code",
   "execution_count": 4,
   "metadata": {},
   "outputs": [
    {
     "name": "stdout",
     "output_type": "stream",
     "text": [
      "<class 'pandas.core.frame.DataFrame'>\n",
      "RangeIndex: 1269 entries, 0 to 1268\n",
      "Data columns (total 6 columns):\n",
      "Date      1269 non-null datetime64[ns]\n",
      "Open      1269 non-null int64\n",
      "High      1269 non-null int64\n",
      "Low       1269 non-null int64\n",
      "Close     1269 non-null int64\n",
      "Volume    1269 non-null int64\n",
      "dtypes: datetime64[ns](1), int64(5)\n",
      "memory usage: 59.6 KB\n"
     ]
    }
   ],
   "source": [
    "df.info()"
   ]
  },
  {
   "cell_type": "code",
   "execution_count": 5,
   "metadata": {},
   "outputs": [],
   "source": [
    "#change=open price of next day - close price of today(first row and last row not included)(target or dependent column) it will become the value to be predicted\n",
    "change=[]\n",
    "for i in range (1,len(df)-1):\n",
    "    change.append(df['Open'][i+1]-df['Open'][i])"
   ]
  },
  {
   "cell_type": "code",
   "execution_count": 6,
   "metadata": {},
   "outputs": [],
   "source": [
    "#Hchange =high price of today - high price of previous day (first row and last row not included )\n",
    "Hchange=[]\n",
    "for i in range (1,len(df)-1):\n",
    "    Hchange.append(df['High'][i]-df['High'][i-1])"
   ]
  },
  {
   "cell_type": "code",
   "execution_count": 7,
   "metadata": {},
   "outputs": [],
   "source": [
    "#Lchange =Low price of today - Low price of previous day (first row and last row not included )\n",
    "Lchange=[]\n",
    "for i in range (1,len(df)-1):\n",
    "    Lchange.append(df['Low'][i]-df['Low'][i-1])"
   ]
  },
  {
   "cell_type": "code",
   "execution_count": 8,
   "metadata": {},
   "outputs": [],
   "source": [
    "#Vchange = Volume today - Volume previous day (first row and last row not included )\n",
    "Vchange=[]\n",
    "for i in range (1,len(df)-1):\n",
    "    Vchange.append(df['Volume'][i]-df['Volume'][i-1])"
   ]
  },
  {
   "cell_type": "code",
   "execution_count": 9,
   "metadata": {},
   "outputs": [],
   "source": [
    "#Ochange = open price of today - Open price of previous day (first row and last row not included )\n",
    "Ochange=[]\n",
    "for i in range (1,len(df)-1):\n",
    "    Ochange.append(df['Open'][i]-df['Open'][i-1])"
   ]
  },
  {
   "cell_type": "code",
   "execution_count": 10,
   "metadata": {},
   "outputs": [],
   "source": [
    "#Cchange = close price of today - Close price of previous day (first row and last row not included )\n",
    "Cchange=[]\n",
    "for i in range (1,len(df)-1):\n",
    "    Cchange.append(df['Close'][i]-df['Close'][i-1])\n",
    "    "
   ]
  },
  {
   "cell_type": "code",
   "execution_count": 11,
   "metadata": {},
   "outputs": [],
   "source": [
    "#Avg price of day= (low price + high price)/2  (first row and last row not included )\n",
    "Avg=[]\n",
    "for i in range (1,len(df)-1):\n",
    "    Avg.append( int(df['Low'][i] + df['High'][i])/2 )"
   ]
  },
  {
   "cell_type": "code",
   "execution_count": 12,
   "metadata": {},
   "outputs": [],
   "source": [
    "samsung_electronics=samsung_electronics.drop(samsung_electronics.index[0]) #delete first row "
   ]
  },
  {
   "cell_type": "code",
   "execution_count": 13,
   "metadata": {},
   "outputs": [],
   "source": [
    "samsung_electronics=samsung_electronics.drop(samsung_electronics.index[len(samsung_electronics)-1]) #delete last row"
   ]
  },
  {
   "cell_type": "code",
   "execution_count": 14,
   "metadata": {},
   "outputs": [],
   "source": [
    "samsung_electronics=samsung_electronics.drop('Open', axis=1)"
   ]
  },
  {
   "cell_type": "code",
   "execution_count": 15,
   "metadata": {},
   "outputs": [],
   "source": [
    "# Create a Pandas Excel writer using XlsxWriter as the engine.\n",
    "writer = pd.ExcelWriter('samsung_dataset_final.xlsx', engine='xlsxwriter')\n",
    "\n",
    "# Convert the dataframe to an XlsxWriter Excel object.\n",
    "samsung_electronics.to_excel(writer, sheet_name='Sheet')\n",
    "\n",
    "# Close the Pandas Excel writer and output the Excel file.\n",
    "writer.save()"
   ]
  },
  {
   "cell_type": "code",
   "execution_count": 16,
   "metadata": {},
   "outputs": [
    {
     "name": "stderr",
     "output_type": "stream",
     "text": [
      "/usr/local/lib/python2.7/dist-packages/ipykernel_launcher.py:4: DeprecationWarning: Call to deprecated function get_active_sheet (Use the .active property).\n",
      "  after removing the cwd from sys.path.\n"
     ]
    }
   ],
   "source": [
    "#Open an xlsx for reading\n",
    "wb = load_workbook('samsung_dataset_final.xlsx')\n",
    "#Get the current Active Sheet\n",
    "ws = wb.get_active_sheet()"
   ]
  },
  {
   "cell_type": "code",
   "execution_count": 17,
   "metadata": {},
   "outputs": [],
   "source": [
    "ws.cell(row=1,column=6).value=\"Avg_price\"\n",
    "row=2\n",
    "for i in range(0,len(samsung_electronics)):\n",
    "    ws.cell(row=row,column=6).value=Avg[i]\n",
    "    row+=1\n",
    "\n",
    "\n",
    "ws.cell(row=1,column=7).value=\"Open_change\"\n",
    "row=2\n",
    "for i in range(0,len(samsung_electronics)):\n",
    "    ws.cell(row=row,column=7).value=Ochange[i]\n",
    "    row+=1\n",
    "    \n",
    "ws.cell(row=1,column=8).value=\"High_change\"\n",
    "row=2\n",
    "for i in range(0,len(samsung_electronics)):\n",
    "    ws.cell(row=row,column=8).value=Hchange[i]\n",
    "    row+=1  \n",
    "    \n",
    "ws.cell(row=1,column=9).value=\"Low_change\"\n",
    "row=2\n",
    "for i in range(0,len(samsung_electronics)):\n",
    "    ws.cell(row=row,column=9).value=Lchange[i]\n",
    "    row+=1  \n",
    "     \n",
    "ws.cell(row=1,column=10).value=\"Close_change\"\n",
    "row=2\n",
    "for i in range(0,len(samsung_electronics)):\n",
    "    ws.cell(row=row,column=10).value=Cchange[i]\n",
    "    row+=1 \n",
    "\n",
    "ws.cell(row=1,column=11).value=\"Volume_change\"\n",
    "row=2\n",
    "for i in range(0,len(samsung_electronics)):\n",
    "    ws.cell(row=row,column=11).value= Vchange[i]\n",
    "    row+=1 \n",
    "    \n",
    "ws.cell(row=1,column=12).value=\"Tomorrow_Change\"\n",
    "row=2\n",
    "for i in range(0,len(samsung_electronics)):\n",
    "    ws.cell(row=row,column=12).value=change[i]\n",
    "    row+=1 \n",
    "    \n",
    "wb.save('samsung_dataset_final.xlsx')"
   ]
  }
 ],
 "metadata": {
  "kernelspec": {
   "display_name": "Python 2",
   "language": "python",
   "name": "python2"
  },
  "language_info": {
   "codemirror_mode": {
    "name": "ipython",
    "version": 2
   },
   "file_extension": ".py",
   "mimetype": "text/x-python",
   "name": "python",
   "nbconvert_exporter": "python",
   "pygments_lexer": "ipython2",
   "version": "2.7.12"
  }
 },
 "nbformat": 4,
 "nbformat_minor": 2
}
